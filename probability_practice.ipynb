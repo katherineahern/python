{
 "cells": [
  {
   "cell_type": "code",
   "execution_count": 3,
   "metadata": {},
   "outputs": [],
   "source": [
    "import statistics\n",
    "\n",
    "# dependent and independent variables\n",
    "# calculate the probability of the intersection of multiple events\n",
    "# two variables are independent if the probability of A given B = probability of A\n",
    "# notation is different from formal logic, P(\"six\" | \"heart\")= \"probability of six given heart\", like a pipe that goes left\n",
    "\n"
   ]
  },
  {
   "cell_type": "code",
   "execution_count": 2,
   "metadata": {},
   "outputs": [
    {
     "name": "stdout",
     "output_type": "stream",
     "text": [
      "0.1666665\n"
     ]
    }
   ],
   "source": [
    "\"\"\"\n",
    "What is the probability of flipping a coin and getting heads, \n",
    "and then rolling a six-sided die and getting a result with two or fewer pips showing?\n",
    "\"\"\"\n",
    "\n",
    "print(.5*.333333)"
   ]
  },
  {
   "cell_type": "code",
   "execution_count": 5,
   "metadata": {},
   "outputs": [
    {
     "name": "stdout",
     "output_type": "stream",
     "text": [
      "0.27999999999999997\n"
     ]
    }
   ],
   "source": [
    "\"\"\"\n",
    "A real-estate development firm has two unrelated projects (assume the projects are completely independent of each other); \n",
    "the first project has been given a 40% probability of being finished on time, \n",
    "and the second project has been given a 30% probability of being completed on time.\n",
    "\n",
    "What is the probability that the first project is done on time, but the second is not?\n",
    "\"\"\"\n",
    "print(.4*(1-.3))\n"
   ]
  },
  {
   "cell_type": "code",
   "execution_count": 6,
   "metadata": {},
   "outputs": [
    {
     "name": "stdout",
     "output_type": "stream",
     "text": [
      "0.096\n"
     ]
    }
   ],
   "source": [
    "\"\"\"\n",
    "Assume the real estate development firm from Q4 takes on a third project, with a .8 probability of on-time completion.\n",
    "What is the probability that all three projects finish on time (assume this project is also indpendent of the others)?\n",
    "\"\"\"\n",
    "print(.4*.3*.8)"
   ]
  },
  {
   "cell_type": "code",
   "execution_count": 7,
   "metadata": {},
   "outputs": [
    {
     "name": "stdout",
     "output_type": "stream",
     "text": [
      "0.6699999999999999\n"
     ]
    }
   ],
   "source": [
    "# Inclusion-exclusion principle\n",
    "# P(A∪B∪C)=P(A)+P(B)+P(C)−P(AB)−P(AC)−P(BC)+P(ABC)\n",
    "\n",
    "\"\"\"\n",
    "Suppose a pet census was given to 100 students at a university; 48 respondents checked the box which reported owning \n",
    "a dog, and 38 respondents checked the box which reported owning a cat. \n",
    "Of those surveyed, 19 of the students had checked both boxes. \n",
    "What is the probability that a randomly selected student owns a cat, a dog, or both types of animals?\n",
    "P(C∪D)\n",
    "\"\"\"\n",
    "catUnionDog = 0.48 + 0.38 - 0.19\n",
    "print(catUnionDog)"
   ]
  },
  {
   "cell_type": "code",
   "execution_count": 8,
   "metadata": {},
   "outputs": [
    {
     "name": "stdout",
     "output_type": "stream",
     "text": [
      "0.06249999999999989\n"
     ]
    }
   ],
   "source": [
    "\"\"\"\n",
    "A software development firm employs 96 engineers. Of these engineers 35 are proficient in python, \n",
    "60 are proficient in Java, and 37 are proficient in C#. There are 14 engineers proficient in python and Java, \n",
    "12 proficient in python and C#, and 19 proficient in Java and C#. \n",
    "There are only 3 engineers who are proficient in all three languages. \n",
    "If an engineer is chosen at random, what is the probability that they are not proficient in \n",
    "any of these three languages?\n",
    "\"\"\"\n",
    "print(1-((35/96)+(60/96)+(37/96)-(14/96)-(12/96)-(19/96)+(3/96)))"
   ]
  },
  {
   "cell_type": "code",
   "execution_count": 9,
   "metadata": {},
   "outputs": [
    {
     "name": "stdout",
     "output_type": "stream",
     "text": [
      "720\n"
     ]
    }
   ],
   "source": [
    "# COMBINATORICS\n",
    "\"\"\"\n",
    "Abbott, Bertie, Costello, Pickles, Shasta and Max -- six dogs -- are competing in the Fog City Dog Show. \n",
    "They must each run the agility course, one at a time. In how many different orders can the six dogs run the course?\n",
    "\"\"\"\n",
    "sixFactorial = (6*5*4*3*2)\n",
    "print(sixFactorial)"
   ]
  },
  {
   "cell_type": "code",
   "execution_count": 10,
   "metadata": {},
   "outputs": [
    {
     "name": "stdout",
     "output_type": "stream",
     "text": [
      "120\n"
     ]
    }
   ],
   "source": [
    "\"\"\"\n",
    "Three dogs will earn ribbons: blue, red, and white. How many distinct ways can the ribbons be distributed \n",
    "amongst the 6 competitors?\n",
    "\"\"\"\n",
    "threeOrderedAmongSix = (6*5*4)\n",
    "print(threeOrderedAmongSix)"
   ]
  },
  {
   "cell_type": "code",
   "execution_count": 11,
   "metadata": {},
   "outputs": [
    {
     "name": "stdout",
     "output_type": "stream",
     "text": [
      "15.0\n"
     ]
    }
   ],
   "source": [
    "\"\"\"\n",
    "Independent of the ribbon ceremony, two dogs will win the congeniality award. \n",
    "How many possible combinations of congeniality winners are there?\n",
    "(62)=6C2=6!/(4!2!)=15\n",
    "\"\"\"\n",
    "twoUnorderedAmongSix=(6*5/2)\n",
    "print(twoUnorderedAmongSix)"
   ]
  },
  {
   "cell_type": "code",
   "execution_count": null,
   "metadata": {},
   "outputs": [],
   "source": []
  }
 ],
 "metadata": {
  "kernelspec": {
   "display_name": "Python 3",
   "language": "python",
   "name": "python3"
  },
  "language_info": {
   "codemirror_mode": {
    "name": "ipython",
    "version": 3
   },
   "file_extension": ".py",
   "mimetype": "text/x-python",
   "name": "python",
   "nbconvert_exporter": "python",
   "pygments_lexer": "ipython3",
   "version": "3.6.5"
  }
 },
 "nbformat": 4,
 "nbformat_minor": 2
}
